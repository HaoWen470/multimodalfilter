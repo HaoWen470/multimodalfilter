{
 "cells": [
  {
   "cell_type": "code",
   "execution_count": 1,
   "metadata": {},
   "outputs": [],
   "source": [
    "%load_ext autoreload\n",
    "%autoreload 2\n",
    "%matplotlib widget\n",
    "\n",
    "import matplotlib.pyplot as plt\n",
    "import numpy as np\n",
    "import torch\n",
    "from mpl_toolkits import mplot3d\n",
    "\n",
    "import crossmodal\n",
    "import diffbayes\n",
    "import fannypack"
   ]
  },
  {
   "cell_type": "code",
   "execution_count": 91,
   "metadata": {},
   "outputs": [],
   "source": [
    "# Choose experiment to eval\n",
    "# experiment_name = \"pf_blackout0.0_new\"\n",
    "# experiment_name = \"pf_blackout0.0_nommpretrain\"\n",
    "Task = crossmodal.tasks.DoorTask\n",
    "experiment_name = \"cmpf128_blackout0.0_1e5\""
   ]
  },
  {
   "cell_type": "code",
   "execution_count": 92,
   "metadata": {},
   "outputs": [
    {
     "name": "stdout",
     "output_type": "stream",
     "text": [
      "[buddy-cmpf128_blackout0.0_1e5] Using device: cuda\n",
      "[buddy-cmpf128_blackout0.0_1e5] Loaded metadata: {'commit_hash': '6a2db3f8ac63b442313f9704c3f92f6e52f0eb16', 'dataset_args': {'image_blackout_ratio': 0.0, 'sequential_image_rate': 1, 'use_haptics': True, 'use_proprioception': True, 'use_vision': True}, 'model_type': 'DoorCrossmodalParticleFilter', 'notes': '(none)', 'train_start_time': 'Jul 29, 2020 @ 16:20:58'}\n",
      "[buddy-cmpf128_blackout0.0_1e5] Wrote metadata to: metadata/cmpf128_blackout0.0_1e5.yaml\n",
      "[buddy-cmpf128_blackout0.0_1e5] Available checkpoint labels: ['0000000000266126', '0000000000267173', '0000000000268222', '0000000000269250', '0000000000270241', 'phase0', 'phase1', 'phase2', 'phase3']\n"
     ]
    }
   ],
   "source": [
    "# Create Buddy, model\n",
    "buddy = fannypack.utils.Buddy(experiment_name)\n",
    "model_type = buddy.metadata[\"model_type\"]\n",
    "dataset_args = buddy.metadata[\"dataset_args\"]\n",
    "filter_model = Task.model_types[model_type]()\n",
    "buddy.attach_model(filter_model)"
   ]
  },
  {
   "cell_type": "code",
   "execution_count": 93,
   "metadata": {},
   "outputs": [
    {
     "name": "stdout",
     "output_type": "stream",
     "text": [
      "[TrajectoriesFile-...oor_push_100.hdf5] Loading trajectory from file: <HDF5 file \"1JEDGZWpWE-Z9kuCvRBJh_Auhc-2V0UpN-panda_door_push_100.hdf5\" (mode r)>\n",
      "[TrajectoriesFile-...oor_push_100.hdf5] Existing trajectory count: 100\n",
      "[TrajectoriesFile-...oor_push_100.hdf5] Opening file...\n",
      "[TrajectoriesFile-...oor_push_100.hdf5] Closing file...\n"
     ]
    }
   ],
   "source": [
    "# Load a trajectory\n",
    "fannypack.data.set_cache_path(crossmodal.__path__[0] + \"/../.cache\")\n",
    "trajectories = crossmodal.tasks._door._load_trajectories(\n",
    "    (\"panda_door_push_100.hdf5\", 5), **dataset_args\n",
    ")"
   ]
  },
  {
   "cell_type": "code",
   "execution_count": 94,
   "metadata": {},
   "outputs": [
    {
     "name": "stdout",
     "output_type": "stream",
     "text": [
      "States shape: (800, 3)\n",
      "Controls shape: (800, 7)\n"
     ]
    }
   ],
   "source": [
    "# Pull out trajectory\n",
    "states, observations, controls = trajectories[0]\n",
    "\n",
    "print(\"States shape:\", states.shape)\n",
    "print(\"Controls shape:\", controls.shape)"
   ]
  },
  {
   "cell_type": "code",
   "execution_count": 95,
   "metadata": {},
   "outputs": [],
   "source": [
    "span = 6.0\n",
    "resolution = 0.03\n",
    "\n",
    "# Time step to visualize at\n",
    "t = 0\n",
    "\n",
    "# Create delta\n",
    "grid_delta = np.mgrid[\n",
    "    -span / 2.0 : span / 2.0 : resolution, -span / 2.0 : span / 2.0 : resolution\n",
    "]\n",
    "_, grid_cols, grid_rows = grid_delta.shape\n",
    "grid_delta = grid_delta.T.reshape((1, grid_cols * grid_rows, 2))\n",
    "zero_col = np.zeros((1, grid_cols * grid_rows, 1))\n",
    "grid_delta = np.concatenate((zero_col, grid_delta), axis=2)\n",
    "assert grid_delta.shape == (1, grid_cols * grid_rows, 3)\n",
    "\n",
    "# Get state, observation\n",
    "state_input = fannypack.utils.to_torch(\n",
    "    states[t : t + 1, None] + grid_delta, device=buddy.device\n",
    ")\n",
    "observation_input = fannypack.utils.to_torch(\n",
    "    fannypack.utils.SliceWrapper(observations)[t : t + 1], device=buddy.device\n",
    ")\n",
    "\n",
    "# Enable grad computation for inputs\n",
    "for v in observation_input.values():\n",
    "    v.requires_grad = True"
   ]
  },
  {
   "cell_type": "code",
   "execution_count": 96,
   "metadata": {},
   "outputs": [
    {
     "name": "stdout",
     "output_type": "stream",
     "text": [
      "dict_keys(['gripper_pos', 'gripper_sensors', 'image'])\n"
     ]
    },
    {
     "name": "stderr",
     "output_type": "stream",
     "text": [
      "/juno/u/brentyi/miniconda/lib/python3.7/site-packages/ipykernel_launcher.py:3: RuntimeWarning: More than 20 figures have been opened. Figures created through the pyplot interface (`matplotlib.pyplot.figure`) are retained until explicitly closed and may consume too much memory. (To control this warning, see the rcParam `figure.max_open_warning`).\n",
      "  This is separate from the ipykernel package so we can avoid doing imports until\n"
     ]
    },
    {
     "data": {
      "application/vnd.jupyter.widget-view+json": {
       "model_id": "dc70573be01741288f47bc921ddafd4a",
       "version_major": 2,
       "version_minor": 0
      },
      "text/plain": [
       "Canvas(toolbar=Toolbar(toolitems=[('Home', 'Reset original view', 'home', 'home'), ('Back', 'Back to previous …"
      ]
     },
     "metadata": {},
     "output_type": "display_data"
    }
   ],
   "source": [
    "print(observation_input.keys())\n",
    "observation_input[\"image\"].shape\n",
    "plt.figure()\n",
    "plt.imshow(fannypack.utils.to_numpy(observation_input[\"image\"][0]), cmap=\"gray\")\n",
    "plt.show()"
   ]
  },
  {
   "cell_type": "code",
   "execution_count": 98,
   "metadata": {},
   "outputs": [
    {
     "name": "stdout",
     "output_type": "stream",
     "text": [
      "[buddy-cmpf128_blackout0.0_1e5] Read checkpoint from path: checkpoints/cmpf128_blackout0.0_1e5-0000000000270241.ckpt\n",
      "[buddy-cmpf128_blackout0.0_1e5] Loaded checkpoint at step: 270241\n"
     ]
    }
   ],
   "source": [
    "# Load latest checkpoint\n",
    "buddy.load_checkpoint()\n",
    "\n",
    "# Get measurement model\n",
    "measurement_model = filter_model.measurement_model\n",
    "model_name = \"\"\n",
    "if isinstance(\n",
    "    filter_model.measurement_model,\n",
    "    crossmodal.base_models.CrossmodalParticleFilterMeasurementModel,\n",
    "):\n",
    "    # Index 0 is image model, index 1 is proprioception/haptics\n",
    "    index = 1\n",
    "    model_name = {0: \"(image)\", 1: \"(proprioception + haptics)\"}[index]\n",
    "    measurement_model = measurement_model.measurement_models[index]\n",
    "\n",
    "# Compute weights\n",
    "log_weights = measurement_model(states=state_input, observations=observation_input)"
   ]
  },
  {
   "cell_type": "code",
   "execution_count": 100,
   "metadata": {},
   "outputs": [
    {
     "data": {
      "text/plain": [
       "tensor([[20.7841,  0.1160]], device='cuda:0', grad_fn=<ExpBackward>)"
      ]
     },
     "execution_count": 100,
     "metadata": {},
     "output_type": "execute_result"
    }
   ],
   "source": [
    "filter_model.measurement_model.crossmodal_weight_model(observations=observation_input)"
   ]
  },
  {
   "cell_type": "code",
   "execution_count": 82,
   "metadata": {},
   "outputs": [],
   "source": [
    "def process_weights(log_weights):\n",
    "    weights = np.exp(fannypack.utils.to_numpy(log_weights))\n",
    "    weights = weights.reshape((grid_cols, grid_rows)) / np.max(weights)\n",
    "    return weights\n",
    "\n",
    "\n",
    "weights = process_weights(log_weights)\n",
    "# weights_pretrain = process_weights(log_weights_pretrain)"
   ]
  },
  {
   "cell_type": "code",
   "execution_count": 83,
   "metadata": {},
   "outputs": [
    {
     "name": "stderr",
     "output_type": "stream",
     "text": [
      "/juno/u/brentyi/miniconda/lib/python3.7/site-packages/ipykernel_launcher.py:1: RuntimeWarning: More than 20 figures have been opened. Figures created through the pyplot interface (`matplotlib.pyplot.figure`) are retained until explicitly closed and may consume too much memory. (To control this warning, see the rcParam `figure.max_open_warning`).\n",
      "  \"\"\"Entry point for launching an IPython kernel.\n"
     ]
    },
    {
     "data": {
      "application/vnd.jupyter.widget-view+json": {
       "model_id": "483aac758b2e43cdae35df908ae6a667",
       "version_major": 2,
       "version_minor": 0
      },
      "text/plain": [
       "Canvas(toolbar=Toolbar(toolitems=[('Home', 'Reset original view', 'home', 'home'), ('Back', 'Back to previous …"
      ]
     },
     "metadata": {},
     "output_type": "display_data"
    }
   ],
   "source": [
    "fig = plt.figure()\n",
    "ax = plt.axes(projection=\"3d\")\n",
    "\n",
    "x = grid_delta[0, :, 1].reshape((grid_cols, grid_rows))\n",
    "y = grid_delta[0, :, 2].reshape((grid_cols, grid_rows))\n",
    "\n",
    "ax.plot_surface(x, y, weights, cmap=\"viridis\", edgecolor=\"none\", alpha=1.0)\n",
    "# ax.plot_surface(x, y, weights_pretrain, cmap=\"plasma\", edgecolor=\"none\", alpha=0.3)\n",
    "\n",
    "ax.set_title(f\"Hinge X/Y Likelihood Map {model_name}\")\n",
    "ax.set_xlabel(\"X error\")\n",
    "ax.set_ylabel(\"Y error\")\n",
    "plt.show()"
   ]
  },
  {
   "cell_type": "code",
   "execution_count": 84,
   "metadata": {},
   "outputs": [
    {
     "name": "stderr",
     "output_type": "stream",
     "text": [
      "/juno/u/brentyi/miniconda/lib/python3.7/site-packages/ipykernel_launcher.py:1: RuntimeWarning: More than 20 figures have been opened. Figures created through the pyplot interface (`matplotlib.pyplot.figure`) are retained until explicitly closed and may consume too much memory. (To control this warning, see the rcParam `figure.max_open_warning`).\n",
      "  \"\"\"Entry point for launching an IPython kernel.\n"
     ]
    },
    {
     "data": {
      "application/vnd.jupyter.widget-view+json": {
       "model_id": "ec24c61c3de148bd968dd5ff5eaae5dd",
       "version_major": 2,
       "version_minor": 0
      },
      "text/plain": [
       "Canvas(toolbar=Toolbar(toolitems=[('Home', 'Reset original view', 'home', 'home'), ('Back', 'Back to previous …"
      ]
     },
     "metadata": {},
     "output_type": "display_data"
    }
   ],
   "source": [
    "fig = plt.figure()\n",
    "ax = plt.axes(projection=\"3d\")\n",
    "\n",
    "x = grid_delta[0, :, 1].reshape((grid_cols, grid_rows))\n",
    "y = grid_delta[0, :, 2].reshape((grid_cols, grid_rows))\n",
    "\n",
    "ax.plot_surface(x, y, weights, cmap=\"viridis\", edgecolor=\"none\", alpha=1.0)\n",
    "# ax.plot_surface(x, y, weights_pretrain, cmap=\"plasma\", edgecolor=\"none\", alpha=0.3)\n",
    "\n",
    "ax.set_title(\"Door Hinge X/Y Likelihood Map\")\n",
    "plt.show()"
   ]
  },
  {
   "cell_type": "code",
   "execution_count": 30,
   "metadata": {},
   "outputs": [],
   "source": [
    "# Compute saliency\n",
    "torch.mean(log_weights).backward(retain_graph=True)"
   ]
  },
  {
   "cell_type": "code",
   "execution_count": 31,
   "metadata": {},
   "outputs": [
    {
     "ename": "TypeError",
     "evalue": "'NoneType' object is not subscriptable",
     "output_type": "error",
     "traceback": [
      "\u001b[0;31m---------------------------------------------------------------------------\u001b[0m",
      "\u001b[0;31mTypeError\u001b[0m                                 Traceback (most recent call last)",
      "\u001b[0;32m<ipython-input-31-f588310662a5>\u001b[0m in \u001b[0;36m<module>\u001b[0;34m\u001b[0m\n\u001b[1;32m      1\u001b[0m image, saliency_map = fannypack.utils.to_numpy(\n\u001b[0;32m----> 2\u001b[0;31m     \u001b[0;34m[\u001b[0m\u001b[0mobservation_input\u001b[0m\u001b[0;34m[\u001b[0m\u001b[0;34m\"image\"\u001b[0m\u001b[0;34m]\u001b[0m\u001b[0;34m[\u001b[0m\u001b[0;36m0\u001b[0m\u001b[0;34m,\u001b[0m \u001b[0;34m:\u001b[0m\u001b[0;34m,\u001b[0m \u001b[0;34m:\u001b[0m\u001b[0;34m]\u001b[0m\u001b[0;34m,\u001b[0m \u001b[0mobservation_input\u001b[0m\u001b[0;34m[\u001b[0m\u001b[0;34m\"image\"\u001b[0m\u001b[0;34m]\u001b[0m\u001b[0;34m.\u001b[0m\u001b[0mgrad\u001b[0m\u001b[0;34m[\u001b[0m\u001b[0;36m0\u001b[0m\u001b[0;34m,\u001b[0m \u001b[0;34m:\u001b[0m\u001b[0;34m,\u001b[0m \u001b[0;34m:\u001b[0m\u001b[0;34m]\u001b[0m\u001b[0;34m]\u001b[0m\u001b[0;34m\u001b[0m\u001b[0;34m\u001b[0m\u001b[0m\n\u001b[0m\u001b[1;32m      3\u001b[0m )\n\u001b[1;32m      4\u001b[0m \u001b[0msaliency_map\u001b[0m \u001b[0;34m=\u001b[0m \u001b[0mnp\u001b[0m\u001b[0;34m.\u001b[0m\u001b[0mabs\u001b[0m\u001b[0;34m(\u001b[0m\u001b[0msaliency_map\u001b[0m\u001b[0;34m)\u001b[0m\u001b[0;34m\u001b[0m\u001b[0;34m\u001b[0m\u001b[0m\n\u001b[1;32m      5\u001b[0m \u001b[0;34m\u001b[0m\u001b[0m\n",
      "\u001b[0;31mTypeError\u001b[0m: 'NoneType' object is not subscriptable"
     ]
    }
   ],
   "source": [
    "image, saliency_map = fannypack.utils.to_numpy(\n",
    "    [observation_input[\"image\"][0, :, :], observation_input[\"image\"].grad[0, :, :]]\n",
    ")\n",
    "saliency_map = np.abs(saliency_map)\n",
    "\n",
    "fig, axes = plt.subplots(1, 2)\n",
    "axes = axes.flatten()\n",
    "axes[0].imshow(image)\n",
    "axes[1].imshow(saliency_map)\n",
    "fig.show()"
   ]
  },
  {
   "cell_type": "code",
   "execution_count": 32,
   "metadata": {},
   "outputs": [
    {
     "name": "stdout",
     "output_type": "stream",
     "text": [
      "tensor([[ 3.3854, -5.8738,  0.4430]], device='cuda:0')\n",
      "tensor([[ 1.2563, -0.2116, -0.3108, -0.2650, -1.2925,  0.6730, -1.2703]],\n",
      "       device='cuda:0')\n"
     ]
    }
   ],
   "source": [
    "print(observation_input[\"gripper_pos\"].grad)\n",
    "print(observation_input[\"gripper_sensors\"].grad)"
   ]
  },
  {
   "cell_type": "code",
   "execution_count": null,
   "metadata": {},
   "outputs": [],
   "source": []
  },
  {
   "cell_type": "code",
   "execution_count": null,
   "metadata": {},
   "outputs": [],
   "source": []
  }
 ],
 "metadata": {
  "kernelspec": {
   "display_name": "Python 3",
   "language": "python",
   "name": "python3"
  },
  "language_info": {
   "codemirror_mode": {
    "name": "ipython",
    "version": 3
   },
   "file_extension": ".py",
   "mimetype": "text/x-python",
   "name": "python",
   "nbconvert_exporter": "python",
   "pygments_lexer": "ipython3",
   "version": "3.7.4"
  }
 },
 "nbformat": 4,
 "nbformat_minor": 4
}
