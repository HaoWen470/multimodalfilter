{
 "cells": [
  {
   "cell_type": "code",
   "execution_count": 1,
   "metadata": {},
   "outputs": [],
   "source": [
    "%load_ext autoreload\n",
    "%autoreload 2\n",
    "%matplotlib widget\n",
    "\n",
    "import matplotlib.pyplot as plt\n",
    "import numpy as np\n",
    "import torch\n",
    "from mpl_toolkits import mplot3d\n",
    "\n",
    "import crossmodal\n",
    "import diffbayes\n",
    "import fannypack"
   ]
  },
  {
   "cell_type": "code",
   "execution_count": null,
   "metadata": {},
   "outputs": [],
   "source": [
    "# Choose experiment to eval\n",
    "# experiment_name = \"pf_blackout0.0_new\"\n",
    "# experiment_name = \"pf_blackout0.0_nommpretrain\"\n",
    "experiment_name = \"cmpf_blackout0.0\""
   ]
  },
  {
   "cell_type": "code",
   "execution_count": null,
   "metadata": {},
   "outputs": [],
   "source": [
    "# Create Buddy, model\n",
    "buddy = fannypack.utils.Buddy(experiment_name)\n",
    "model_type = buddy.metadata[\"model_type\"]\n",
    "dataset_args = buddy.metadata[\"dataset_args\"]\n",
    "filter_model = crossmodal.door_models.model_types[model_type]()\n",
    "buddy.attach_model(filter_model)"
   ]
  },
  {
   "cell_type": "code",
   "execution_count": null,
   "metadata": {},
   "outputs": [],
   "source": [
    "# Load a trajectory\n",
    "fannypack.data.set_cache_path(crossmodal.__path__[0] + \"/../.cache\")\n",
    "trajectories = crossmodal.door_data.load_trajectories(\n",
    "    (\"panda_door_pull_10.hdf5\", 1), **dataset_args\n",
    ")"
   ]
  },
  {
   "cell_type": "code",
   "execution_count": null,
   "metadata": {},
   "outputs": [],
   "source": [
    "# Pull out trajectory\n",
    "states, observations, controls = trajectories[0]\n",
    "\n",
    "print(\"States shape:\", states.shape)\n",
    "print(\"Controls shape:\", controls.shape)"
   ]
  },
  {
   "cell_type": "code",
   "execution_count": 6,
   "metadata": {},
   "outputs": [],
   "source": [
    "span = 3.0\n",
    "resolution = 0.03\n",
    "\n",
    "# Time step to visualize at\n",
    "t = 36\n",
    "\n",
    "# Create delta\n",
    "grid_delta = np.mgrid[\n",
    "    -span / 2.0 : span / 2.0 : resolution, -span / 2.0 : span / 2.0 : resolution\n",
    "]\n",
    "_, grid_cols, grid_rows = grid_delta.shape\n",
    "grid_delta = grid_delta.T.reshape((1, grid_cols * grid_rows, 2))\n",
    "zero_col = np.zeros((1, grid_cols * grid_rows, 1))\n",
    "grid_delta = np.concatenate((zero_col, grid_delta), axis=2)\n",
    "assert grid_delta.shape == (1, grid_cols * grid_rows, 3)\n",
    "\n",
    "# Get state, observation\n",
    "state_input = fannypack.utils.to_torch(\n",
    "    states[t : t + 1, None] + grid_delta, device=buddy.device\n",
    ")\n",
    "observation_input = fannypack.utils.to_torch(\n",
    "    fannypack.utils.SliceWrapper(observations)[t : t + 1], device=buddy.device\n",
    ")\n",
    "\n",
    "# Enable grad computation for inputs\n",
    "for v in observation_input.values():\n",
    "    v.requires_grad = True"
   ]
  },
  {
   "cell_type": "code",
   "execution_count": 7,
   "metadata": {},
   "outputs": [
    {
     "name": "stdout",
     "output_type": "stream",
     "text": [
      "dict_keys(['gripper_pos', 'gripper_sensors', 'image'])\n"
     ]
    },
    {
     "data": {
      "application/vnd.jupyter.widget-view+json": {
       "model_id": "cc36e44bad7446a0be28c9c294a9e40f",
       "version_major": 2,
       "version_minor": 0
      },
      "text/plain": [
       "Canvas(toolbar=Toolbar(toolitems=[('Home', 'Reset original view', 'home', 'home'), ('Back', 'Back to previous …"
      ]
     },
     "metadata": {},
     "output_type": "display_data"
    }
   ],
   "source": [
    "print(observation_input.keys())\n",
    "observation_input[\"image\"].shape\n",
    "plt.figure()\n",
    "plt.imshow(fannypack.utils.to_numpy(observation_input[\"image\"][0]), cmap=\"gray\")\n",
    "plt.show()"
   ]
  },
  {
   "cell_type": "code",
   "execution_count": 22,
   "metadata": {},
   "outputs": [
    {
     "name": "stdout",
     "output_type": "stream",
     "text": [
      "[buddy-cmpf_blackout0.0] Read checkpoint from path: checkpoints/cmpf_blackout0.0-phase4.ckpt\n",
      "[buddy-cmpf_blackout0.0] Loaded checkpoint at step: 271421\n"
     ]
    }
   ],
   "source": [
    "# Load latest checkpoint\n",
    "buddy.load_checkpoint()\n",
    "\n",
    "# Get measurement model\n",
    "measurement_model = filter_model.measurement_model\n",
    "model_name = \"\"\n",
    "if isinstance(\n",
    "    filter_model.measurement_model,\n",
    "    crossmodal.base_models.CrossmodalParticleFilterMeasurementModel,\n",
    "):\n",
    "    # Index 0 is image model, index 1 is proprioception/haptics\n",
    "    index = 0\n",
    "    model_name = {0: \"(image)\", 1: \"(proprioception + haptics)\"}[index]\n",
    "    measurement_model = measurement_model.measurement_models[index]\n",
    "\n",
    "# Compute weights\n",
    "log_weights = measurement_model(states=state_input, observations=observation_input)"
   ]
  },
  {
   "cell_type": "code",
   "execution_count": 23,
   "metadata": {},
   "outputs": [],
   "source": [
    "def process_weights(log_weights):\n",
    "    weights = np.exp(fannypack.utils.to_numpy(log_weights))\n",
    "    weights = weights.reshape((grid_cols, grid_rows)) / np.max(weights)\n",
    "    return weights\n",
    "\n",
    "\n",
    "weights = process_weights(log_weights)\n",
    "# weights_pretrain = process_weights(log_weights_pretrain)"
   ]
  },
  {
   "cell_type": "code",
   "execution_count": 24,
   "metadata": {},
   "outputs": [
    {
     "data": {
      "application/vnd.jupyter.widget-view+json": {
       "model_id": "e48a9ec3bfae40139c6499606fe7c2cc",
       "version_major": 2,
       "version_minor": 0
      },
      "text/plain": [
       "Canvas(toolbar=Toolbar(toolitems=[('Home', 'Reset original view', 'home', 'home'), ('Back', 'Back to previous …"
      ]
     },
     "metadata": {},
     "output_type": "display_data"
    }
   ],
   "source": [
    "fig = plt.figure()\n",
    "ax = plt.axes(projection=\"3d\")\n",
    "\n",
    "x = grid_delta[0, :, 1].reshape((grid_cols, grid_rows))\n",
    "y = grid_delta[0, :, 2].reshape((grid_cols, grid_rows))\n",
    "\n",
    "ax.plot_surface(x, y, weights, cmap=\"viridis\", edgecolor=\"none\", alpha=1.0)\n",
    "# ax.plot_surface(x, y, weights_pretrain, cmap=\"plasma\", edgecolor=\"none\", alpha=0.3)\n",
    "\n",
    "ax.set_title(f\"Hinge X/Y Likelihood Map {model_name}\")\n",
    "ax.set_xlabel(\"X error\")\n",
    "ax.set_ylabel(\"Y error\")\n",
    "plt.show()"
   ]
  },
  {
   "cell_type": "code",
   "execution_count": null,
   "metadata": {},
   "outputs": [],
   "source": [
    "fig = plt.figure()\n",
    "ax = plt.axes(projection=\"3d\")\n",
    "\n",
    "x = grid_delta[0, :, 1].reshape((grid_cols, grid_rows))\n",
    "y = grid_delta[0, :, 2].reshape((grid_cols, grid_rows))\n",
    "\n",
    "ax.plot_surface(x, y, weights, cmap=\"viridis\", edgecolor=\"none\", alpha=1.0)\n",
    "# ax.plot_surface(x, y, weights_pretrain, cmap=\"plasma\", edgecolor=\"none\", alpha=0.3)\n",
    "\n",
    "ax.set_title(\"Door Hinge X/Y Likelihood Map\")\n",
    "plt.show()"
   ]
  },
  {
   "cell_type": "code",
   "execution_count": 46,
   "metadata": {},
   "outputs": [],
   "source": [
    "# Compute saliency\n",
    "torch.mean(log_weights).backward(retain_graph=True)"
   ]
  },
  {
   "cell_type": "code",
   "execution_count": 52,
   "metadata": {},
   "outputs": [
    {
     "data": {
      "application/vnd.jupyter.widget-view+json": {
       "model_id": "4fc42c490485430e8c3ef815984282f7",
       "version_major": 2,
       "version_minor": 0
      },
      "text/plain": [
       "Canvas(toolbar=Toolbar(toolitems=[('Home', 'Reset original view', 'home', 'home'), ('Back', 'Back to previous …"
      ]
     },
     "metadata": {},
     "output_type": "display_data"
    }
   ],
   "source": [
    "image, saliency_map = fannypack.utils.to_numpy(\n",
    "    [observation_input[\"image\"][0, :, :], observation_input[\"image\"].grad[0, :, :]]\n",
    ")\n",
    "saliency_map = np.abs(saliency_map)\n",
    "\n",
    "fig, axes = plt.subplots(1, 2)\n",
    "axes = axes.flatten()\n",
    "axes[0].imshow(image)\n",
    "axes[1].imshow(saliency_map)\n",
    "fig.show()"
   ]
  },
  {
   "cell_type": "code",
   "execution_count": 32,
   "metadata": {},
   "outputs": [
    {
     "name": "stdout",
     "output_type": "stream",
     "text": [
      "tensor([[ 0.1658,  0.0734, -0.1259]], device='cuda:0')\n",
      "tensor([[ 0.1305,  0.4751, -0.1491,  0.0474, -0.0628,  0.4591, -0.6401]],\n",
      "       device='cuda:0')\n"
     ]
    }
   ],
   "source": [
    "print(observation_input[\"gripper_pos\"].grad)\n",
    "print(observation_input[\"gripper_sensors\"].grad)"
   ]
  },
  {
   "cell_type": "code",
   "execution_count": null,
   "metadata": {},
   "outputs": [],
   "source": []
  },
  {
   "cell_type": "code",
   "execution_count": null,
   "metadata": {},
   "outputs": [],
   "source": []
  }
 ],
 "metadata": {
  "kernelspec": {
   "display_name": "Python 3",
   "language": "python",
   "name": "python3"
  },
  "language_info": {
   "codemirror_mode": {
    "name": "ipython",
    "version": 3
   },
   "file_extension": ".py",
   "mimetype": "text/x-python",
   "name": "python",
   "nbconvert_exporter": "python",
   "pygments_lexer": "ipython3",
   "version": "3.7.4"
  }
 },
 "nbformat": 4,
 "nbformat_minor": 4
}
