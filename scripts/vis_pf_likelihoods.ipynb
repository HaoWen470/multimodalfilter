{
 "cells": [
  {
   "cell_type": "code",
   "execution_count": 19,
   "metadata": {},
   "outputs": [
    {
     "name": "stdout",
     "output_type": "stream",
     "text": [
      "The autoreload extension is already loaded. To reload it, use:\n",
      "  %reload_ext autoreload\n"
     ]
    }
   ],
   "source": [
    "%load_ext autoreload\n",
    "%autoreload 2\n",
    "%matplotlib widget\n",
    "\n",
    "import matplotlib.pyplot as plt\n",
    "import numpy as np\n",
    "import torch\n",
    "from mpl_toolkits import mplot3d\n",
    "\n",
    "import crossmodal\n",
    "import fannypack"
   ]
  },
  {
   "cell_type": "code",
   "execution_count": 54,
   "metadata": {},
   "outputs": [],
   "source": [
    "# Choose experiment to eval\n",
    "# experiment_name = \"pf_blackout0.0_new\"\n",
    "experiment_name = \"pf_blackout0.0_nommpretrain\""
   ]
  },
  {
   "cell_type": "code",
   "execution_count": 55,
   "metadata": {},
   "outputs": [
    {
     "name": "stdout",
     "output_type": "stream",
     "text": [
      "[buddy-pf_blackout0.0_nommpretrain] Using device: cuda\n",
      "[buddy-pf_blackout0.0_nommpretrain] Loaded metadata: {'commit_hash': 'eef3b3cb92090d1025d8dcd7980ab52d92635a72', 'dataset_args': {'image_blackout_ratio': 0.0, 'sequential_image_rate': 1, 'use_haptics': True, 'use_proprioception': True, 'use_vision': True}, 'eval_results': {'raw_rmse': [0.020570801571011543, 0.018060145899653435, 0.012222472578287125], 'theta_rmse_deg': 0.46530788158420383, 'x_rmse_cm': 0.1020448631137479, 'y_rmse_cm': 0.06906894809044897}, 'model_type': 'DoorParticleFilter', 'notes': 'Commented out pretraining for measurement model', 'train_end_time': 'Jun 16, 2020 @ 3:53:53', 'train_start_time': 'Jun 16, 2020 @ 2:26:00'}\n",
      "[buddy-pf_blackout0.0_nommpretrain] Available checkpoint labels: ['0000000000090698', '0000000000091890', '0000000000093111', '0000000000094283', '0000000000095572', 'phase0', 'phase1', 'phase2', 'phase3']\n"
     ]
    }
   ],
   "source": [
    "# Create Buddy, model\n",
    "buddy = fannypack.utils.Buddy(experiment_name)\n",
    "model_type = buddy.metadata[\"model_type\"]\n",
    "dataset_args = buddy.metadata[\"dataset_args\"]\n",
    "filter_model = crossmodal.door_models.model_types[model_type]()\n",
    "buddy.attach_model(filter_model)"
   ]
  },
  {
   "cell_type": "code",
   "execution_count": 56,
   "metadata": {},
   "outputs": [
    {
     "name": "stdout",
     "output_type": "stream",
     "text": [
      "[TrajectoriesFile-...door_pull_10.hdf5] Loading trajectory from file: <HDF5 file \"1sO3avSEtegDcgISHdALDMW59b-knRRvf-panda_door_pull_10.hdf5\" (mode r)>\n",
      "[TrajectoriesFile-...door_pull_10.hdf5] Existing trajectory count: 10\n",
      "[TrajectoriesFile-...door_pull_10.hdf5] Opening file...\n",
      "[TrajectoriesFile-...door_pull_10.hdf5] Closing file...\n"
     ]
    }
   ],
   "source": [
    "# Load a trajectory\n",
    "fannypack.data.set_cache_path(crossmodal.__path__[0] + \"/../.cache\")\n",
    "trajectories = crossmodal.door_data.load_trajectories(\n",
    "    (\"panda_door_pull_10.hdf5\", 1), **dataset_args\n",
    ")"
   ]
  },
  {
   "cell_type": "code",
   "execution_count": 57,
   "metadata": {},
   "outputs": [
    {
     "name": "stdout",
     "output_type": "stream",
     "text": [
      "States shape: (800, 3)\n",
      "Controls shape: (800, 7)\n"
     ]
    }
   ],
   "source": [
    "# Pull out trajectory\n",
    "states, observations, controls = trajectories[0]\n",
    "\n",
    "print(\"States shape:\", states.shape)\n",
    "print(\"Controls shape:\", controls.shape)"
   ]
  },
  {
   "cell_type": "code",
   "execution_count": 58,
   "metadata": {},
   "outputs": [],
   "source": [
    "span = 2.0\n",
    "resolution = 0.02\n",
    "\n",
    "# Time step to visualize at\n",
    "t = 35\n",
    "\n",
    "# Create delta\n",
    "grid_delta = np.mgrid[\n",
    "    -span / 2.0 : span / 2.0 : resolution, -span / 2.0 : span / 2.0 : resolution\n",
    "]\n",
    "_, grid_cols, grid_rows = grid_delta.shape\n",
    "grid_delta = grid_delta.T.reshape((1, grid_cols * grid_rows, 2))\n",
    "zero_col = np.zeros((1, grid_cols * grid_rows, 1))\n",
    "grid_delta = np.concatenate((zero_col, grid_delta), axis=2)\n",
    "assert grid_delta.shape == (1, grid_cols * grid_rows, 3)\n",
    "\n",
    "# Get state, observation\n",
    "state_input = fannypack.utils.to_torch(\n",
    "    states[t : t + 1, None] + grid_delta, device=buddy.device\n",
    ")\n",
    "observation_input = fannypack.utils.to_torch(\n",
    "    fannypack.utils.SliceWrapper(observations)[t : t + 1], device=buddy.device\n",
    ")\n",
    "\n",
    "# Enable grad computation for inputs\n",
    "for v in observation_input.values():\n",
    "    v.requires_grad = True"
   ]
  },
  {
   "cell_type": "code",
   "execution_count": 59,
   "metadata": {},
   "outputs": [
    {
     "name": "stdout",
     "output_type": "stream",
     "text": [
      "dict_keys(['gripper_pos', 'gripper_sensors', 'image'])\n"
     ]
    },
    {
     "data": {
      "application/vnd.jupyter.widget-view+json": {
       "model_id": "fc9304038ffe43428c2dccd4d66721e0",
       "version_major": 2,
       "version_minor": 0
      },
      "text/plain": [
       "Canvas(toolbar=Toolbar(toolitems=[('Home', 'Reset original view', 'home', 'home'), ('Back', 'Back to previous …"
      ]
     },
     "metadata": {},
     "output_type": "display_data"
    }
   ],
   "source": [
    "print(observation_input.keys())\n",
    "observation_input[\"image\"].shape\n",
    "plt.figure()\n",
    "plt.imshow(fannypack.utils.to_numpy(observation_input[\"image\"][0]), cmap=\"gray\")\n",
    "plt.show()"
   ]
  },
  {
   "cell_type": "code",
   "execution_count": 60,
   "metadata": {},
   "outputs": [
    {
     "name": "stdout",
     "output_type": "stream",
     "text": [
      "[buddy-pf_blackout0.0_nommpretrain] Read checkpoint from path: checkpoints/pf_blackout0.0_nommpretrain-phase3.ckpt\n",
      "[buddy-pf_blackout0.0_nommpretrain] Instantiating optimizer:  train_dynamics_single_step\n",
      "[buddy-pf_blackout0.0_nommpretrain] Instantiating optimizer:  train_dynamics_recurrent\n",
      "[buddy-pf_blackout0.0_nommpretrain] Instantiating optimizer:  train_filter_recurrent\n",
      "[buddy-pf_blackout0.0_nommpretrain] Loaded checkpoint at step: 96215\n"
     ]
    }
   ],
   "source": [
    "# Load latest checkpoint\n",
    "buddy.load_checkpoint()\n",
    "log_weights = filter_model.measurement_model(\n",
    "    states=state_input, observations=observation_input\n",
    ")\n",
    "\n",
    "# # Load checkpoint after pretraining\n",
    "# buddy.load_checkpoint(\"phase2\")\n",
    "# log_weights_pretrain = filter_model.measurement_model(\n",
    "#     states=state_input, observations=observation_input\n",
    "# )"
   ]
  },
  {
   "cell_type": "code",
   "execution_count": 63,
   "metadata": {},
   "outputs": [],
   "source": [
    "def process_weights(log_weights):\n",
    "    weights = np.exp(fannypack.utils.to_numpy(log_weights))\n",
    "    weights = weights.reshape((grid_cols, grid_rows)) / np.max(weights)\n",
    "    return weights\n",
    "\n",
    "\n",
    "weights = process_weights(log_weights)\n",
    "# weights_pretrain = process_weights(log_weights_pretrain)"
   ]
  },
  {
   "cell_type": "code",
   "execution_count": 64,
   "metadata": {},
   "outputs": [
    {
     "data": {
      "application/vnd.jupyter.widget-view+json": {
       "model_id": "4132178650d246f39600ac002fa78cce",
       "version_major": 2,
       "version_minor": 0
      },
      "text/plain": [
       "Canvas(toolbar=Toolbar(toolitems=[('Home', 'Reset original view', 'home', 'home'), ('Back', 'Back to previous …"
      ]
     },
     "metadata": {},
     "output_type": "display_data"
    }
   ],
   "source": [
    "fig = plt.figure()\n",
    "ax = plt.axes(projection=\"3d\")\n",
    "\n",
    "x = grid_delta[0, :, 1].reshape((grid_cols, grid_rows))\n",
    "y = grid_delta[0, :, 2].reshape((grid_cols, grid_rows))\n",
    "\n",
    "ax.plot_surface(x, y, weights, cmap=\"viridis\", edgecolor=\"none\", alpha=1.0)\n",
    "# ax.plot_surface(x, y, weights_pretrain, cmap=\"plasma\", edgecolor=\"none\", alpha=0.3)\n",
    "\n",
    "ax.set_title(\"Door Hinge X/Y Likelihood Map\")\n",
    "plt.show()"
   ]
  },
  {
   "cell_type": "code",
   "execution_count": 65,
   "metadata": {},
   "outputs": [
    {
     "data": {
      "application/vnd.jupyter.widget-view+json": {
       "model_id": "faecd26dc04240efb57bf4e31cb1dfcf",
       "version_major": 2,
       "version_minor": 0
      },
      "text/plain": [
       "Canvas(toolbar=Toolbar(toolitems=[('Home', 'Reset original view', 'home', 'home'), ('Back', 'Back to previous …"
      ]
     },
     "metadata": {},
     "output_type": "display_data"
    }
   ],
   "source": [
    "fig = plt.figure()\n",
    "ax = plt.axes(projection=\"3d\")\n",
    "\n",
    "x = grid_delta[0, :, 1].reshape((grid_cols, grid_rows))\n",
    "y = grid_delta[0, :, 2].reshape((grid_cols, grid_rows))\n",
    "\n",
    "ax.plot_surface(x, y, weights, cmap=\"viridis\", edgecolor=\"none\", alpha=1.0)\n",
    "# ax.plot_surface(x, y, weights_pretrain, cmap=\"plasma\", edgecolor=\"none\", alpha=0.3)\n",
    "\n",
    "ax.set_title(\"Door Hinge X/Y Likelihood Map\")\n",
    "plt.show()"
   ]
  },
  {
   "cell_type": "code",
   "execution_count": 66,
   "metadata": {},
   "outputs": [],
   "source": [
    "# Compute saliency\n",
    "torch.mean(log_weights).backward(retain_graph=True)"
   ]
  },
  {
   "cell_type": "code",
   "execution_count": 52,
   "metadata": {},
   "outputs": [
    {
     "data": {
      "application/vnd.jupyter.widget-view+json": {
       "model_id": "4fc42c490485430e8c3ef815984282f7",
       "version_major": 2,
       "version_minor": 0
      },
      "text/plain": [
       "Canvas(toolbar=Toolbar(toolitems=[('Home', 'Reset original view', 'home', 'home'), ('Back', 'Back to previous …"
      ]
     },
     "metadata": {},
     "output_type": "display_data"
    }
   ],
   "source": [
    "image, saliency_map = fannypack.utils.to_numpy([\n",
    "    observation_input[\"image\"][0, :, :],\n",
    "    observation_input[\"image\"].grad[0, :, :]\n",
    "])\n",
    "saliency_map = np.abs(saliency_map)\n",
    "\n",
    "fig, axes = plt.subplots(1, 2)\n",
    "axes = axes.flatten()\n",
    "axes[0].imshow(image)\n",
    "axes[1].imshow(saliency_map)\n",
    "fig.show()"
   ]
  },
  {
   "cell_type": "code",
   "execution_count": 32,
   "metadata": {},
   "outputs": [
    {
     "name": "stdout",
     "output_type": "stream",
     "text": [
      "tensor([[ 0.1658,  0.0734, -0.1259]], device='cuda:0')\n",
      "tensor([[ 0.1305,  0.4751, -0.1491,  0.0474, -0.0628,  0.4591, -0.6401]],\n",
      "       device='cuda:0')\n"
     ]
    }
   ],
   "source": [
    "print(observation_input[\"gripper_pos\"].grad)\n",
    "print(observation_input[\"gripper_sensors\"].grad)"
   ]
  },
  {
   "cell_type": "code",
   "execution_count": null,
   "metadata": {},
   "outputs": [],
   "source": []
  },
  {
   "cell_type": "code",
   "execution_count": null,
   "metadata": {},
   "outputs": [],
   "source": []
  }
 ],
 "metadata": {
  "kernelspec": {
   "display_name": "Python 3",
   "language": "python",
   "name": "python3"
  },
  "language_info": {
   "codemirror_mode": {
    "name": "ipython",
    "version": 3
   },
   "file_extension": ".py",
   "mimetype": "text/x-python",
   "name": "python",
   "nbconvert_exporter": "python",
   "pygments_lexer": "ipython3",
   "version": "3.7.4"
  }
 },
 "nbformat": 4,
 "nbformat_minor": 4
}
